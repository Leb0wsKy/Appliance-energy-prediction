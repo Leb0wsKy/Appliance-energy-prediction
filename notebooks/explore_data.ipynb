{
 "cells": [
  {
   "cell_type": "markdown",
   "id": "883de3ba",
   "metadata": {},
   "source": [
    "Initial Configuration"
   ]
  },
  {
   "cell_type": "code",
   "execution_count": 8,
   "id": "6e0df75c",
   "metadata": {},
   "outputs": [],
   "source": [
    "import os\n",
    "\n",
    "# Base paths\n",
    "BASE_DIR = os.path.dirname(os.path.dirname(os.getcwd()))\n",
    "DATA_DIR = os.path.join(BASE_DIR, \"data\")\n",
    "OUTPUT_DIR = os.path.join(BASE_DIR, \"outputs\")\n",
    "\n",
    "# Data files\n",
    "FILE_I = os.path.join(DATA_DIR, \"Electricity_I.csv\")\n",
    "FILE_P = os.path.join(DATA_DIR, \"Electricity_P.csv\")\n",
    "FILE_Q = os.path.join(DATA_DIR, \"Electricity_Q.csv\")\n",
    "FILE_S = os.path.join(DATA_DIR, \"Electricity_S.csv\")\n",
    "\n",
    "# Output folders\n",
    "PLOTS_DIR = os.path.join(OUTPUT_DIR, \"plots\")\n",
    "MODELS_DIR = os.path.join(OUTPUT_DIR, \"models\")\n",
    "\n",
    "# Ensure dirs exist\n",
    "os.makedirs(PLOTS_DIR, exist_ok=True)\n",
    "os.makedirs(MODELS_DIR, exist_ok=True)"
   ]
  },
  {
   "cell_type": "markdown",
   "id": "efb2720a",
   "metadata": {},
   "source": [
    "Data Preprocessing Visualisation"
   ]
  },
  {
   "cell_type": "code",
   "execution_count": 12,
   "id": "a2a3c352",
   "metadata": {},
   "outputs": [
    {
     "name": "stdout",
     "output_type": "stream",
     "text": [
      "                     WHE  RSE  GRE  MHE  B1E  BME  CWE  DWE  EQE  FRE  ...  \\\n",
      "UNIX_TS                                                                ...   \n",
      "2012-04-01 07:00:00  8.3  0.5  0.5  7.3  0.0  3.0  0.0  0.0  0.4  1.3  ...   \n",
      "2012-04-01 07:01:00  8.2  0.5  0.5  7.2  0.0  3.0  0.0  0.0  0.4  1.3  ...   \n",
      "2012-04-01 07:02:00  8.0  0.5  0.5  7.0  0.0  3.0  0.0  0.0  0.4  1.3  ...   \n",
      "2012-04-01 07:03:00  8.0  0.5  0.5  7.0  0.0  3.0  0.0  0.0  0.4  1.3  ...   \n",
      "2012-04-01 07:04:00  7.8  0.5  0.5  6.8  0.0  3.0  0.0  0.0  0.4  1.3  ...   \n",
      "\n",
      "                     WOE  B2E  CDE  DNE  EBE  FGE  HTE  OUE  TVE  UNE  \n",
      "UNIX_TS                                                                \n",
      "2012-04-01 07:00:00  0.1  0.5  0.0  0.4  0.0  0.0  0.0  0.0  0.5  0.1  \n",
      "2012-04-01 07:01:00  0.1  0.5  0.0  0.4  0.0  0.0  0.0  0.0  0.5  0.0  \n",
      "2012-04-01 07:02:00  0.1  0.1  0.0  0.4  0.0  0.0  0.0  0.0  0.5  0.2  \n",
      "2012-04-01 07:03:00  0.1  0.1  0.0  0.4  0.0  0.0  0.0  0.0  0.5  0.2  \n",
      "2012-04-01 07:04:00  0.1  0.1  0.0  0.4  0.0  0.0  0.0  0.0  0.5  0.0  \n",
      "\n",
      "[5 rows x 23 columns]\n"
     ]
    }
   ],
   "source": [
    "import pandas as pd\n",
    "import os\n",
    "\n",
    "if os.path.exists(r'C:\\Users\\Admin\\Desktop\\IEEE\\IASTAM5.0\\data\\Electricity_I.csv'):\n",
    "\tdf = pd.read_csv(r'C:\\Users\\Admin\\Desktop\\IEEE\\IASTAM5.0\\data\\Electricity_I.csv')\n",
    "\tdf['UNIX_TS'] = pd.to_datetime(df['UNIX_TS'], unit='s')\n",
    "\tdf.set_index('UNIX_TS', inplace=True)\n",
    "\tprint(df.head())\n",
    "else:\n",
    "\tprint(f\"File not found: {FILE_I}\")"
   ]
  },
  {
   "cell_type": "markdown",
   "id": "62965218",
   "metadata": {},
   "source": []
  }
 ],
 "metadata": {
  "kernelspec": {
   "display_name": "Python 3",
   "language": "python",
   "name": "python3"
  },
  "language_info": {
   "codemirror_mode": {
    "name": "ipython",
    "version": 3
   },
   "file_extension": ".py",
   "mimetype": "text/x-python",
   "name": "python",
   "nbconvert_exporter": "python",
   "pygments_lexer": "ipython3",
   "version": "3.13.7"
  }
 },
 "nbformat": 4,
 "nbformat_minor": 5
}
